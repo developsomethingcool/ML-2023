{
 "cells": [
  {
   "cell_type": "markdown",
   "id": "5e3a724f",
   "metadata": {
    "deletable": false,
    "editable": false,
    "nbgrader": {
     "cell_type": "markdown",
     "checksum": "7ef2c2034676875dd678d3773e7e92b3",
     "grade": false,
     "grade_id": "h00",
     "locked": true,
     "schema_version": 3,
     "solution": false
    }
   },
   "source": [
    "Osnabrück University - Machine Learning (Summer Term 2023) - Prof. Dr.-Ing. G. Heidemann, Ulf Krumnack, Leila Malihi"
   ]
  },
  {
   "cell_type": "markdown",
   "id": "6912ea0e",
   "metadata": {
    "deletable": false,
    "editable": false,
    "nbgrader": {
     "cell_type": "markdown",
     "checksum": "58f810e20f7e7ebbafecc0c340f8d947",
     "grade": false,
     "grade_id": "cell-175c5b8f652e026d",
     "locked": true,
     "schema_version": 3,
     "solution": false,
     "task": false
    }
   },
   "source": [
    "# Exercise Sheet 01: Concept Learning"
   ]
  },
  {
   "cell_type": "markdown",
   "id": "4d84ff70",
   "metadata": {
    "deletable": false,
    "editable": false,
    "nbgrader": {
     "cell_type": "markdown",
     "checksum": "6333dd1a097178319cc59e5641a3c44c",
     "grade": false,
     "grade_id": "cell-0779efa0bccb27ae",
     "locked": true,
     "schema_version": 3,
     "solution": false,
     "task": false
    }
   },
   "source": [
    "## Introduction\n",
    "\n",
    "This is the first official exercise sheet. The homework sheets will usually be available at the beginning of the week and are supposed to be solved in groups of three. They have to be handed in by the end of Sunday of that week. The exercises are then presented to your tutor in a small feedback session. To acquire the admission for the final exam, you will have to pass $N-2$ of the weekly provided exercise sheets.\n",
    "\n",
    "Sign up for a group on Stud.IP (See `Participants` -> `Functions/Groups`). The times mentioned there are the times for the feedback session of your group. If none of them fits, send any of the tutors an e-mail so we can try to arrange something.\n",
    "\n",
    "Your group will have a group folder in Stud.IP under `Documents`. Upload your solutions there to hand them in.\n",
    "\n",
    "All exercise sheets will use [Jupyter Notebooks](http://jupyter-notebook.readthedocs.org/en/latest/notebook.html). To be able to run these on your system, you will need to install Python and a few packages. We suggest the newest version of Python 3 and installing the conda environment as explained in the practice session and in the file \"ml-install.txt\" (found on Stud.IP in the \"Documents\" section in the Folder \"Exercises\". This was also part of Sheet 00).\n",
    "\n",
    "This week's sheet should be solved and handed in before end of **Sunday, April 23, 2023**. \n",
    "Please upload your results to your group's Stud.IP folder. In case you cannot do this first sheet (due to technical or organizational problems) please upload a description of your problem instead. Your tutor will help you to solve the problems in the first feedback session and you may hand in this sheet together with the second sheet one week later."
   ]
  },
  {
   "cell_type": "markdown",
   "id": "d6c5c3a7",
   "metadata": {
    "deletable": false,
    "editable": false,
    "nbgrader": {
     "cell_type": "markdown",
     "checksum": "277cc8cd5c7024446f24e776834a0248",
     "grade": false,
     "grade_id": "cell-aad21d3e70ca29e7",
     "locked": true,
     "schema_version": 3,
     "solution": false,
     "task": false
    }
   },
   "source": [
    "## Assignment 1: Learning Tasks (4 points)"
   ]
  },
  {
   "cell_type": "markdown",
   "id": "35301b86",
   "metadata": {
    "deletable": false,
    "editable": false,
    "nbgrader": {
     "cell_type": "markdown",
     "checksum": "38bba3d0602b8325424fd3eab7361a9c",
     "grade": false,
     "grade_id": "cell-573de581339f4602",
     "locked": true,
     "schema_version": 3,
     "solution": false,
     "task": false
    }
   },
   "source": [
    "**(a)** Give three computer applications for which machine learning approaches seem \n",
    "appropriate and three for which they seem inappropriate. Pick applications that are not\n",
    "already mentioned in the lecture, and include a one-sentence justification for each."
   ]
  },
  {
   "cell_type": "markdown",
   "id": "4902034a",
   "metadata": {
    "deletable": false,
    "nbgrader": {
     "cell_type": "markdown",
     "checksum": "151bf450b5c61e6bceed135c8b01dd4a",
     "grade": true,
     "grade_id": "cell-7daad0c311c13e13",
     "locked": false,
     "points": 1,
     "schema_version": 3,
     "solution": true,
     "task": false
    }
   },
   "source": [
    "Appropriate:\n",
    "1. Computer games - enviroments and characters learn their actions via Machine learning. We have a lot of data which can be processed\n",
    "2. Classification - Spam classification in emails by labeling the data and the programm learns to label emails on its own\n",
    "3. Large language models - gets input data and trys to predict the next words based on a context of a sentence.\n",
    "\n",
    "Inappropriate:\n",
    "1. Small datasets - there is not enogh attributes to make a prediction\n",
    "2. Simple math problems - already have a knowledge base, and do not to have to figure out a new one \n",
    "3. Ambiguos datasets - there is no knowledge base to be found"
   ]
  },
  {
   "cell_type": "markdown",
   "id": "8f61cad3",
   "metadata": {
    "deletable": false,
    "editable": false,
    "nbgrader": {
     "cell_type": "markdown",
     "checksum": "12ca17fa7966ec967a3229cf582b1a61",
     "grade": false,
     "grade_id": "cell-75f5683d29ef7800",
     "locked": true,
     "schema_version": 3,
     "solution": false,
     "task": false
    }
   },
   "source": [
    "**(b)** Pick some learning task not mentioned in the lecture. Describe it informally in a paragraph in English. Now describe it by stating as precisely as possible the task, performance measure, and training experience. Finally, propose a target function to be learned and a target representation. Discuss the main tradeoffs you considered in formulating this learning task."
   ]
  },
  {
   "cell_type": "markdown",
   "id": "02e82f02",
   "metadata": {
    "deletable": false,
    "nbgrader": {
     "cell_type": "markdown",
     "checksum": "81cdd034de4a4ebb66b3b887fc985a1b",
     "grade": true,
     "grade_id": "cell-ded8a09479800067",
     "locked": false,
     "points": 1,
     "schema_version": 3,
     "solution": true,
     "task": false
    }
   },
   "source": [
    "Spam filter. Task: label emails as spam and not spam. Perofrmance measure: percentage of accurately specified emails. Training experience: Train it on large labeled data set, such as learning what words are used more in spam emails.\n",
    "Target function: spam or not spam\n",
    "Target representation: binary boolean classification\n",
    "Tradeoffs: Overfitting would be our tradeoff. Let some spam filter out to avoid some importnat emails going into spam. "
   ]
  },
  {
   "cell_type": "markdown",
   "id": "ce972589",
   "metadata": {},
   "source": [
    "**(c)** Prove that the LMS weight update rule described in (ML-01, slide 19) performs a gradient descent to minimize the squared error given on that slide: calculate the derivative of $E$ with respect to the weight $w_i$, assuming that $V(b)$ is a linear function. Gradient descent is achieved by updating each weight in proportion to $-\\partial E/\\partial w_i$. Therefore, you must show that the LMS training rule alters weights in this proportion for each training example it encounters."
   ]
  },
  {
   "cell_type": "markdown",
   "id": "1658c5c0",
   "metadata": {
    "deletable": false,
    "nbgrader": {
     "cell_type": "markdown",
     "checksum": "c137bc4993805b4eaef542e3f5b8813d",
     "grade": true,
     "grade_id": "cell-ed7d79641fd2df77",
     "locked": false,
     "points": 2,
     "schema_version": 3,
     "solution": true,
     "task": false
    }
   },
   "source": [
    "With LMS we start with a random value and then depending on the error we initially take larger steps and then converge to a smaller error which is what gradient descent also does"
   ]
  },
  {
   "cell_type": "markdown",
   "id": "e69507a1",
   "metadata": {
    "deletable": false,
    "editable": false,
    "nbgrader": {
     "cell_type": "markdown",
     "checksum": "9bc7512c6e1323866c514415501c7127",
     "grade": false,
     "grade_id": "cell-d0903956896707a2",
     "locked": true,
     "schema_version": 3,
     "solution": false,
     "task": false
    }
   },
   "source": [
    "## Assignment 2: Candidate Elimination by Hand (6 points)\n",
    "\n",
    "Candidate Elimination is a learning algorithm that, in each step, tries to generate a description which is consistent with all previously observed examples in a training set. That description could hypothetically then be used to classify examples outside the training set.\n",
    "\n",
    "Consider the following situation:\n",
    "\n",
    "Earl and Fran have made it their mission to visit as many amusement parks as possible after the pandemic. However, to maximize their enjoyment and not have any unnecessary arguments break out, they make a list of previous park visits and if they would go there again, to have a few criteria to decide if a park is worth their time.\n",
    "\n",
    "This is the set of attributes along with their possible values Earl and Fran came up with:\n",
    "\n",
    "| Attribute           | driving distance | ticket price      | rollercoasters | dinosaurs |\n",
    "|---------------------|------------------|-------------------|----------------|-----------|\n",
    "| **Possible Values** | short / far      | cheap / expensive | many / none    | yes / no  |\n",
    "\n",
    "This is Earl and Fran's accumulated data from previous visits. The list will allow you to come to a learning decision which properties have to be fulfilled such that the two will enjoy a visit to an amusement park.\n",
    "\n",
    "| Sample No. | driving distance | ticket price | rollercoasters | dinosaurs | go again? |\n",
    "|------------|------------------|--------------|----------------|-----------|-----------|\n",
    "| 1          | far              | cheap        | many           | no        | yes       |\n",
    "| 2          | short            | expensive    | many           | no        | yes       |\n",
    "| 3          | far              | expensive    | none           | yes       | no        |\n",
    "| 4          | short            | cheap        | none           | yes       | no        |\n",
    "| 5          | short            | cheap        | many           | yes       | yes       |"
   ]
  },
  {
   "cell_type": "markdown",
   "id": "6af34006",
   "metadata": {
    "deletable": false,
    "editable": false,
    "nbgrader": {
     "cell_type": "markdown",
     "checksum": "0b4703448c8b663770de21b564adc7d3",
     "grade": false,
     "grade_id": "cell-f5cd6d758c895950",
     "locked": true,
     "schema_version": 3,
     "solution": false,
     "task": false
    }
   },
   "source": [
    "**a)** Apply Candidate Elimination to the samples 1-5 below and provide the version space boundaries $S_n$ and $G_n$ after each new training sample.  "
   ]
  },
  {
   "cell_type": "markdown",
   "id": "b8b1ad3f",
   "metadata": {
    "deletable": false,
    "nbgrader": {
     "cell_type": "markdown",
     "checksum": "fec90624fcecf2c434a846108010f7d4",
     "grade": true,
     "grade_id": "cell-ab417b404920afe1",
     "locked": false,
     "points": 2,
     "schema_version": 3,
     "solution": true,
     "task": false
    }
   },
   "source": [
    "S0 = {<'∅', '∅', '∅', '∅'>}\n",
    "G0 = {<'?', '?', '?', '?'>}\n",
    "\n",
    "S1 = {<far, cheap, many, no>}\n",
    "G1 = {<'?', '?', '?', '?'>}\n",
    "\n",
    "S2 = {<'?', '?', many, no>}\n",
    "G2 = {<'?', '?', '?', '?'>}\n",
    "\n",
    "S3 = {<'?', '?', many, no>}\n",
    "G3 = {<'?', '?', many, '?'><'?', '?', '?', no>}\n",
    "\n",
    "S4 = {<'?', '?', many, no>}\n",
    "G4 = {<'?', '?', many, '?'>,<'?', '?', '?', no>}\n",
    "\n",
    "S5 = {<'?', '?', many, '?'>}\n",
    "G5 = {<'?', '?', many, '?'>}"
   ]
  },
  {
   "cell_type": "markdown",
   "id": "6ad42240",
   "metadata": {
    "deletable": false,
    "editable": false,
    "nbgrader": {
     "cell_type": "markdown",
     "checksum": "5cd47301fa3634fba84344fd78bfdc05",
     "grade": false,
     "grade_id": "cell-e5db1c57702dcd02",
     "locked": true,
     "schema_version": 3,
     "solution": false,
     "task": false
    }
   },
   "source": [
    "**b)** Provide the complete version space bounded by $S_2$ and $G_2$."
   ]
  },
  {
   "cell_type": "markdown",
   "id": "b86ae290",
   "metadata": {
    "deletable": false,
    "nbgrader": {
     "cell_type": "markdown",
     "checksum": "d2f3537c4bfd9cd00261e1f5895de7ab",
     "grade": true,
     "grade_id": "cell-ef42d1e895e9cff6",
     "locked": false,
     "points": 2,
     "schema_version": 3,
     "solution": true,
     "task": false
    }
   },
   "source": [
    "             S2 = {<'?', '?', many, no>}\n",
    "          /                              \\\n",
    "    {<'?', '?', many, '?'>}        <'?', '?', '?', no>\n",
    "          \\                               /\n",
    "             G2 = <'?', '?', '?', '?'>"
   ]
  },
  {
   "cell_type": "markdown",
   "id": "50d4e6e1",
   "metadata": {
    "deletable": false,
    "editable": false,
    "nbgrader": {
     "cell_type": "markdown",
     "checksum": "456f728ea77936ea39878de7fec2f127",
     "grade": false,
     "grade_id": "cell-2375670feb946ca2",
     "locked": true,
     "schema_version": 3,
     "solution": false,
     "task": false
    }
   },
   "source": [
    "**c)** To what kind of amusement park should Earl and Fran go?"
   ]
  },
  {
   "cell_type": "markdown",
   "id": "0aa7813c",
   "metadata": {
    "deletable": false,
    "nbgrader": {
     "cell_type": "markdown",
     "checksum": "806471df2ca25eb95db37871a730d9a5",
     "grade": true,
     "grade_id": "cell-8aa8761eb3b1780c",
     "locked": false,
     "points": 2,
     "schema_version": 3,
     "solution": true,
     "task": false
    }
   },
   "source": [
    "To any part which contains MANY rollecrcoasters"
   ]
  },
  {
   "cell_type": "markdown",
   "id": "b470783d",
   "metadata": {
    "deletable": false,
    "editable": false,
    "nbgrader": {
     "cell_type": "markdown",
     "checksum": "743d52595090016b580fb83ea7404793",
     "grade": false,
     "grade_id": "cell-c0e07cdee1f5cee5",
     "locked": true,
     "schema_version": 3,
     "solution": false,
     "task": false
    }
   },
   "source": [
    "## Assignment 3: Candidate Elimination in Python (6 points)\n",
    "\n",
    "Now let's get to real fun part: Programming our first machine learning algorithm!\n",
    "\n",
    "But first some general remarks on coding style:\n",
    "\n",
    "In general, try to write code that's consistent with [PEP8](https://www.python.org/dev/peps/pep-0008/), the offical Python Style Guide. Have a look a the [Google Style Guide](https://google.github.io/styleguide/pyguide.html) as well. It's based on PEP8 and has some nice examples. As a bonus always document your function and classes with docstrings. It is best practice to stick to some docstring convention for example [Google's](http://sphinxcontrib-napoleon.readthedocs.io/en/latest/example_google.html). This has the big advantages that it allows for automated generation of documentation. We will follow that convention in the code we provide you, so you know what kind of objects to expect and what to return.\n",
    "\n",
    "If, during the programming tasks, you run into a `NameError`, make sure that you executed all prior code cells beforehand. Later cells might rely on variables and function from prior cells. To see all currently defined variables you can make use of the `%whos` [magic function](https://github.com/lmmx/devnotes/wiki/IPython-'magic'-function-documentation#whos) anywhere in code cells. Additionally, it is sometimes handy to run all cells from the beginning by opeining the command palette typing `run all cells`. Moreover, using <kbd>b</kbd> to add new cells below and <kbd>a</kbd> for adding new cells above your current cell will make your life often easier. Finally, using <kbd>l</kbd>  to show line numbers is helpful for locating errors from error messages.\n",
    "\n",
    "In the following Python code we have provided the building blocks for the `CANDIDATE-ELIMINATION` algorithm and put them together in a single function. Now you have to fill those building blocks with actual code. There are places marked with \n",
    "\n",
    "```python\n",
    "# YOUR CODE HERE\n",
    "``` \n",
    "\n",
    "where you have to add some code to make the code work. Finish the code to automate the decision making for Earl and Fran!"
   ]
  },
  {
   "cell_type": "code",
   "execution_count": 2,
   "id": "36f1a65e",
   "metadata": {
    "deletable": false,
    "nbgrader": {
     "cell_type": "code",
     "checksum": "1be7dc368d4765d7c4ec40f3c795ed2d",
     "grade": true,
     "grade_id": "ex2_solution1",
     "locked": false,
     "points": 1,
     "schema_version": 3,
     "solution": true
    }
   },
   "outputs": [],
   "source": [
    "def is_consistent(h, datum):\n",
    "    \"\"\"\n",
    "    Checks if a general hypothesis is consistent with a datum.\n",
    "    \n",
    "    Args:\n",
    "        h (tuple): Hypothesis. '?' indicates all values possible, '0' indicates no value possible.\n",
    "        datum (dict): Datum with 'values' (tuple) and 'target' (bool).\n",
    "        \n",
    "    Returns:\n",
    "        bool: Whether the hypothesis correctly predicts the target value.\n",
    "    \"\"\"\n",
    "    flag = False\n",
    "    if datum[\"target\"]:\n",
    "        for i in range(len(h)):\n",
    "                if h[i] != \"?\" and h[i] != datum[\"values\"][i]:\n",
    "                    return False\n",
    "        return True\n",
    "    else:\n",
    "        for i in range(len(h)):\n",
    "                if h[i] != \"?\" and h[i] != datum[\"values\"][i]:\n",
    "                    return True\n",
    "        return False\n",
    "        \n",
    "\n",
    "assert is_consistent(('far', 'cheap', '?', 'no'), {'values': ('far', 'cheap', 'many', 'no' ), 'target': True })\n",
    "assert not is_consistent(('far', 'cheap', '?', 'no'), {'values': ('far', 'cheap', 'many', 'no' ), 'target': False })\n",
    "assert is_consistent(('short', 'cheap', '?', 'no'), {'values': ('far', 'cheap', 'many', 'no' ), 'target': False })\n",
    "assert not is_consistent(('short', 'cheap', '?', 'no'), {'values': ('far', 'cheap', 'many', 'no' ), 'target': True })"
   ]
  },
  {
   "cell_type": "code",
   "execution_count": 3,
   "id": "bafb1071",
   "metadata": {
    "deletable": false,
    "nbgrader": {
     "cell_type": "code",
     "checksum": "cabc8f16ae23164b6ad4a001fcb0d7d3",
     "grade": true,
     "grade_id": "ex2_solution2",
     "locked": false,
     "points": 1,
     "schema_version": 3,
     "solution": true
    }
   },
   "outputs": [],
   "source": [
    "def is_more_general_or_equal(h1, h2):\n",
    "    \"\"\"\n",
    "    Checks whether hypothesis h1 is more general than hypothesis h2 or equally general.\n",
    "    \n",
    "    Args:\n",
    "        h1 (tuple): Hypothesis 1.\n",
    "        h2 (tuple): Hypothesis 2.\n",
    "           '?' indicates all values possible, '0' indicates no value possible.\n",
    "    \n",
    "    Returns:\n",
    "        bool: True if the predicate is satisfied.\n",
    "    \"\"\"\n",
    "    for i in range(len(h1)):\n",
    "        if h1[i] != \"?\" and h1[i] != h2[i]:\n",
    "            return False\n",
    "    return True\n",
    "    \n",
    "assert is_more_general_or_equal(('?', '?', '?', '?'), ('far', 'cheap', 'many', 'no'))\n",
    "assert not is_more_general_or_equal(('?', '?', 'many', 'no'), ('far', 'cheap', 'many', '?'))"
   ]
  },
  {
   "cell_type": "code",
   "execution_count": 4,
   "id": "0ed1d1fa",
   "metadata": {
    "deletable": false,
    "nbgrader": {
     "cell_type": "code",
     "checksum": "95a15cddefdcdf95d1b2ca494a693e47",
     "grade": true,
     "grade_id": "ex2_solution3",
     "locked": false,
     "points": 1,
     "schema_version": 3,
     "solution": true
    }
   },
   "outputs": [],
   "source": [
    "def is_more_specific_or_equal(h1, h2):\n",
    "    \"\"\"\n",
    "    Checks whether hypothesis h1 is more specific than hypothesis h2 or equally specific.\n",
    "    \n",
    "    Args:\n",
    "        h1 (tuple): Hypothesis 1.\n",
    "        h2 (tuple): Hypothesis 2.\n",
    "           '?' indicates all values possible, '0' indicates no value possible.\n",
    "    \n",
    "    Returns:\n",
    "        bool: True if the predicate is satisfied.\n",
    "    \"\"\"\n",
    "    for i in range(len(h1)):\n",
    "        if h2[i] != \"?\" and h1[i] != h2[i]:\n",
    "            return False\n",
    "    return True\n",
    "    \n",
    "    \n",
    "assert is_more_specific_or_equal(('?', '?', 'many', 'no'), ('?', '?', 'many', '?'))\n",
    "assert not is_more_specific_or_equal(('?', 'cheap', 'many', 'no'), ('far', '?', '?', '?'))"
   ]
  },
  {
   "cell_type": "code",
   "execution_count": 5,
   "id": "77107449",
   "metadata": {
    "deletable": false,
    "nbgrader": {
     "cell_type": "code",
     "checksum": "b9b3b1e043cecc2374b3f95707bf3847",
     "grade": true,
     "grade_id": "ex2_solution4",
     "locked": false,
     "points": 1,
     "schema_version": 3,
     "solution": true
    }
   },
   "outputs": [],
   "source": [
    "def generalize_minimally(h, datum):\n",
    "    \"\"\"Generalize hypothesis h so it becomes consitent with the datum.\n",
    "    \n",
    "    Args:\n",
    "        h (tuple): The hypothesis to be generalized.\n",
    "                   '?' indicates all values possible, '0' indicates no value possible.\n",
    "        datum (tuple): Attribute values of a datum. The datum is assumed to have a positive target value.\n",
    "    \n",
    "    Returns:\n",
    "        tuple: The generalized hypothesis.\n",
    "    \"\"\"\n",
    "    \n",
    "    for i in range(len(h)):\n",
    "        if h[i] != \"?\" and h[i] != datum[i] and h[i] != \"0\":   \n",
    "            new_tuple = list(h)\n",
    "            new_tuple[i] = '?'\n",
    "            h = tuple(new_tuple)\n",
    "            \n",
    "        if h[i] == \"0\":\n",
    "            new_tuple = list(h)\n",
    "            new_tuple[i] = datum[i]\n",
    "            h = tuple(new_tuple)\n",
    "            \n",
    "    return h\n",
    "    \n",
    "\n",
    "assert generalize_minimally(('?', '?', 'many', 'no'), ('short', 'cheap', 'many', 'yes')) == ('?', '?', 'many', '?')\n",
    "assert generalize_minimally(('0', '0', '0', '0'), ('short', 'cheap', 'many', 'yes')) == ('short', 'cheap', 'many', 'yes')"
   ]
  },
  {
   "cell_type": "code",
   "execution_count": 6,
   "id": "8ed80286",
   "metadata": {
    "deletable": false,
    "nbgrader": {
     "cell_type": "code",
     "checksum": "25bc1300e17e3677b2333d4a4afcf904",
     "grade": true,
     "grade_id": "ex2_solution5",
     "locked": false,
     "points": 2,
     "schema_version": 3,
     "solution": true
    }
   },
   "outputs": [],
   "source": [
    "def specialize_minimally(h, datum, attr_values):\n",
    "    \"\"\"\n",
    "    Generate all consistent minimal specialization of hypothesis h.\n",
    "    \n",
    "    Args:\n",
    "        h (tuple): The hypothesis to be specialized.\n",
    "        datum (tuple): Attribute values of a datum. The datum is assumed to have a negative target value.\n",
    "        attr_values (tuple of tuples): All possible attribute values for each attribute.\n",
    "    \n",
    "    Returns:\n",
    "        tuple of tuples: Tuple of the specialized hypotheses.\n",
    "    \"\"\"\n",
    "    results = []\n",
    "    for i in range(len(h)):\n",
    "        if h[i] == \"?\":\n",
    "            temp = list(h)\n",
    "            temp[i] = attr_values[i][1] if attr_values[i][0] == datum[i] else attr_values[i][0]\n",
    "            temp = tuple(temp) \n",
    "            results.append(temp)\n",
    "    results = tuple(results)\n",
    "    return results\n",
    "    \n",
    "attr_values = (('short', 'far'), ('cheap', 'expensive'), ('many', 'none'), ('yes', 'no'))\n",
    "assert specialize_minimally(('?', '?', 'many', 'no'), ('short', 'cheap', 'many', 'no'), attr_values) == (('far', '?', 'many', 'no'), ('?', 'expensive', 'many', 'no'))"
   ]
  },
  {
   "cell_type": "markdown",
   "id": "7ee0e8e8",
   "metadata": {
    "deletable": false,
    "editable": false,
    "nbgrader": {
     "cell_type": "markdown",
     "checksum": "113fceeb10337e3cec2bd17e71f3a3e2",
     "grade": false,
     "grade_id": "cell-eed96524af5d38e7",
     "locked": true,
     "schema_version": 3,
     "solution": false,
     "task": false
    }
   },
   "source": [
    "Now check that the algorithm works in the intended way by excecuting the cells below."
   ]
  },
  {
   "cell_type": "code",
   "execution_count": 7,
   "id": "54fd2cdb",
   "metadata": {
    "deletable": false,
    "editable": false,
    "nbgrader": {
     "cell_type": "code",
     "checksum": "05fafec19305a3fd93d0444af9a92260",
     "grade": false,
     "grade_id": "cell-5ff73aa56439d69d",
     "locked": true,
     "schema_version": 3,
     "solution": false,
     "task": false
    }
   },
   "outputs": [],
   "source": [
    "def eliminate_candidates(data, attr_values):\n",
    "    \"\"\"\n",
    "    Candidate elimination algorithm printing its progress at each step.\n",
    "    \n",
    "    Args:\n",
    "        data (list of dicts): The dataset.\n",
    "        attr_values (tuple of tuples): All possible attribute values for each attribute in the data.\n",
    "        \n",
    "    Returns:\n",
    "        tuple: The general and the specific boundary of the version space.\n",
    "    \"\"\"\n",
    "    # Initialize general and specific boundary.\n",
    "    \n",
    "    # Maximally general hypothesis.\n",
    "    general_boundary = [tuple('?') * len(attr_values)]\n",
    "    # Maximally specific hypothesis.\n",
    "    specific_boundary = [tuple('0') * len(attr_values)]\n",
    "    \n",
    "    # Fit the version space to the data.\n",
    "    for datum in data:\n",
    "        if datum['target']:\n",
    "            # If the sample is classified as positive...\n",
    "            \n",
    "            # Remove all inconsistent hypotheses from G.\n",
    "            general_boundary = [g for g in general_boundary if is_consistent(g, datum)]\n",
    "            \n",
    "            for s in specific_boundary:\n",
    "                # Remove all inconsistent hypothesis from S.\n",
    "                if not is_consistent(s, datum):\n",
    "                    specific_boundary.remove(s)\n",
    "\n",
    "                    # Add to S all minimal generalizations s. In this case only one.\n",
    "                    s_generalized = generalize_minimally(s, datum['values'])\n",
    "                    # Add the new hypothesis to the specific boundary, if it is not more general \n",
    "                    # than the general boundary. We do not need to check for consistency again\n",
    "                    # as the hypothesis was constructed in such a way that it must be consistent.\n",
    "                    if any(is_more_general_or_equal(g, s_generalized) for g in general_boundary):\n",
    "                        specific_boundary.append(s_generalized)\n",
    "\n",
    "            # Remove from S any hypothesis that is more general than another hypothesis in S.\n",
    "            for s in specific_boundary:\n",
    "                if any(is_more_general_or_equal(s, s2) \n",
    "                       and not s == s2 for s2  \n",
    "                       in specific_boundary):\n",
    "                    \n",
    "                    specific_boundary.remove(s)\n",
    "\n",
    "        else:\n",
    "            # If the sample is classified as negative...\n",
    "            \n",
    "            # Remove all inconsistent hypotheses from S.\n",
    "            specific_boundary = [s for s in specific_boundary if is_consistent(s, datum)]\n",
    "            for g in general_boundary:\n",
    "                # Remove all inconsistent hypotheses from G.\n",
    "                if not is_consistent(g, datum):\n",
    "                    general_boundary.remove(g)\n",
    "\n",
    "                    # Add to G all minimal specializations of g.\n",
    "                    for specialized_g in specialize_minimally(g, datum['values'], attr_values):\n",
    "                        # Add the new specialized hypothesis to the general boundary, if it is not more \n",
    "                        # specific than the specific boundary.\n",
    "                        # We do not need to check for consistency again\n",
    "                        # as the hypothesis was constructed in such a way that it must be consistent.\n",
    "                        if any(is_more_specific_or_equal(s, specialized_g) for s in specific_boundary):\n",
    "                                \n",
    "                                general_boundary.append(specialized_g)\n",
    "                \n",
    "                # Remove from G any hypothesis that is less general than another hypothesis in G.\n",
    "                for g in general_boundary:\n",
    "                    if any(is_more_specific_or_equal(g, g2) \n",
    "                           and not g == g2 for g2 \n",
    "                           in general_boundary):\n",
    "                        \n",
    "                        general_boundary.remove(g)\n",
    "        \n",
    "        # Print progress of algorithm at each iteration.\n",
    "        print('Sample: {} {}\\nG: {}\\nS: {}\\n'.format('+' if datum['target'] else '-', datum['values'],\n",
    "                                                     general_boundary, specific_boundary))\n",
    "        \n",
    "    return general_boundary, specific_boundary"
   ]
  },
  {
   "cell_type": "code",
   "execution_count": 8,
   "id": "5f3363e7",
   "metadata": {
    "deletable": false,
    "editable": false,
    "nbgrader": {
     "cell_type": "code",
     "checksum": "f0c236e39672214b868e7126f82e45ed",
     "grade": false,
     "grade_id": "ex2_test",
     "locked": true,
     "schema_version": 3,
     "solution": false,
     "task": false
    }
   },
   "outputs": [
    {
     "name": "stdout",
     "output_type": "stream",
     "text": [
      "Sample: + ('far', 'cheap', 'many', 'no')\n",
      "G: [('?', '?', '?', '?')]\n",
      "S: [('far', 'cheap', 'many', 'no')]\n",
      "\n",
      "Sample: + ('short', 'expensive', 'many', 'no')\n",
      "G: [('?', '?', '?', '?')]\n",
      "S: [('?', '?', 'many', 'no')]\n",
      "\n",
      "Sample: - ('far', 'expensive', 'none', 'yes')\n",
      "G: [('?', '?', 'many', '?'), ('?', '?', '?', 'no')]\n",
      "S: [('?', '?', 'many', 'no')]\n",
      "\n",
      "Sample: - ('short', 'cheap', 'none', 'yes')\n",
      "G: [('?', '?', 'many', '?'), ('?', '?', '?', 'no')]\n",
      "S: [('?', '?', 'many', 'no')]\n",
      "\n",
      "Sample: + ('short', 'cheap', 'many', 'yes')\n",
      "G: [('?', '?', 'many', '?')]\n",
      "S: [('?', '?', 'many', '?')]\n",
      "\n"
     ]
    },
    {
     "data": {
      "text/plain": [
       "([('?', '?', 'many', '?')], [('?', '?', 'many', '?')])"
      ]
     },
     "execution_count": 8,
     "metadata": {},
     "output_type": "execute_result"
    }
   ],
   "source": [
    "attr_values = (('short', 'far'), ('cheap', 'expensive'), ('many', 'none'), ('yes', 'no'))\n",
    "\n",
    "# samples\n",
    "data = [ \n",
    "    {'values': ('far',   'cheap',     'many', 'no' ), 'target': True },\n",
    "    {'values': ('short', 'expensive', 'many', 'no' ), 'target': True },\n",
    "    {'values': ('far',   'expensive', 'none', 'yes'), 'target': False},\n",
    "    {'values': ('short', 'cheap',     'none', 'yes'), 'target': False},\n",
    "    {'values': ('short', 'cheap',     'many', 'yes'), 'target': True }\n",
    "]\n",
    "\n",
    "eliminate_candidates(data, attr_values)"
   ]
  },
  {
   "cell_type": "markdown",
   "id": "25448b11",
   "metadata": {
    "deletable": false,
    "editable": false,
    "nbgrader": {
     "cell_type": "markdown",
     "checksum": "91e4a84f5853ecbc52d783a0e692c56f",
     "grade": false,
     "grade_id": "cell-e8704cc99397489d",
     "locked": true,
     "schema_version": 3,
     "solution": false,
     "task": false
    }
   },
   "source": [
    "## Assignment 4: Inductive Bias (4 points)"
   ]
  },
  {
   "cell_type": "markdown",
   "id": "c775dac3",
   "metadata": {
    "deletable": false,
    "editable": false,
    "nbgrader": {
     "cell_type": "markdown",
     "checksum": "fd0acfdf4a321604a638f246e6929f77",
     "grade": false,
     "grade_id": "cell-0cac3f19657cf08e",
     "locked": true,
     "schema_version": 3,
     "solution": false,
     "task": false
    }
   },
   "source": [
    "**a)** What is an inductive bias? Describe the concept in your own words! Why do we need it?"
   ]
  },
  {
   "cell_type": "markdown",
   "id": "43e745f3",
   "metadata": {
    "deletable": false,
    "nbgrader": {
     "cell_type": "markdown",
     "checksum": "2da9a37d81c2fe25f07feb280b1ae8ab",
     "grade": true,
     "grade_id": "cell-ef3d6719a20fcc57",
     "locked": false,
     "points": 1,
     "schema_version": 3,
     "solution": true,
     "task": false
    }
   },
   "source": [
    "The inductive bias descibes the the framework which is nessesayry to form assumtion on inperfect data. The bias is a form of rope which helps one to leap over gaps in knowlege and allows oneself to genrealise from examples given. Basically, it is what we assume the target function to be when we plan to solve our task."
   ]
  },
  {
   "cell_type": "markdown",
   "id": "c4780ce1",
   "metadata": {
    "deletable": false,
    "editable": false,
    "nbgrader": {
     "cell_type": "markdown",
     "checksum": "b92b9dc60ffc40224adcdf36cc5242e1",
     "grade": false,
     "grade_id": "cell-d2f09c6e12b491df",
     "locked": true,
     "schema_version": 3,
     "solution": false,
     "task": false
    }
   },
   "source": [
    "**b)** Describe and compare the inductive bias for the learning algorithms you heard about in the lecture (Candidate Elimination and Find-S)."
   ]
  },
  {
   "cell_type": "markdown",
   "id": "c1aaa253",
   "metadata": {
    "deletable": false,
    "nbgrader": {
     "cell_type": "markdown",
     "checksum": "a38c78a5ac03052544c415aa7f4f1d1e",
     "grade": true,
     "grade_id": "cell-4ebc56901ad0ad00",
     "locked": false,
     "points": 1,
     "schema_version": 3,
     "solution": true,
     "task": false
    }
   },
   "source": [
    "The Candidate Elimination and Find-S both share the same bias regarding their general representaion of the world. Both algorithems as presented in the lecture are based on a purely conjunctive understanding of the world allowing them only to understand in conjunctive terms contrary to the descision tree whih understands the world in a conjunctive and disjunctive way. The Find-S algorithem furthermore has the bias that it only learns from positive examples assuming that negative examples don't provide any new information."
   ]
  },
  {
   "cell_type": "markdown",
   "id": "3cb208a4",
   "metadata": {
    "deletable": false,
    "editable": false,
    "nbgrader": {
     "cell_type": "markdown",
     "checksum": "e16501608f4498a96416dd4de88836cf",
     "grade": false,
     "grade_id": "cell-c30597e059264a70",
     "locked": true,
     "schema_version": 3,
     "solution": false,
     "task": false
    }
   },
   "source": [
    "**c)** A concept can be considered as a boolean-valued function on the instance space. Asumming a representation using $n$ binary features, how many different concepts exist? Using the concept representation introduced in the lecture (conjuntion of constraints on the attributes), how many of these concepts can be expressed?"
   ]
  },
  {
   "cell_type": "markdown",
   "id": "0b1084b6",
   "metadata": {
    "deletable": false,
    "nbgrader": {
     "cell_type": "markdown",
     "checksum": "ad154877cfa90208410eef922ba8fd9a",
     "grade": true,
     "grade_id": "cell-5b79bd62c4d58ce6",
     "locked": false,
     "points": 1,
     "schema_version": 3,
     "solution": true,
     "task": false
    }
   },
   "source": [
    "(2^(3^n))+1\n",
    "\n",
    "We have two possible outcomes (positive, negative) <br>\n",
    "We have three posible states of the the binary feature can take (\"a\", \"b\", \"?\") <br>\n",
    "We have n attributes We have 1 emty summ"
   ]
  },
  {
   "cell_type": "markdown",
   "id": "b4609fd0",
   "metadata": {
    "deletable": false,
    "editable": false,
    "nbgrader": {
     "cell_type": "markdown",
     "checksum": "a6ba7970da7ed7d0c6854e8917932e26",
     "grade": false,
     "grade_id": "cell-e21f11a5856571ce",
     "locked": true,
     "schema_version": 3,
     "solution": false,
     "task": false
    }
   },
   "source": [
    "**d)** The *power* of a hypotheses space is defined as the cardinality of the largest set of inputs that can be labeled by the hypotheses in all possible ways. Consider now a representation with $n=2$ binary features. What is the power of the unrestricted hypotheses space? Using the concept representation from the lecture, what is the power of the restricted hypotheses space?"
   ]
  },
  {
   "cell_type": "markdown",
   "id": "5d4ee8ee",
   "metadata": {
    "deletable": false,
    "nbgrader": {
     "cell_type": "markdown",
     "checksum": "177178813f001385e51ba4fb3dd56f14",
     "grade": true,
     "grade_id": "cell-281f1d049ce89888",
     "locked": false,
     "points": 1,
     "schema_version": 3,
     "solution": true,
     "task": false
    }
   },
   "source": [
    "The power of the unrestricted hypothesis space is 2^n. In this case we have only two features so the power of the unrestricted hypothesis space is 2^2=4. The power of the restricted hypothesis space should be less than that of the unrestricted hypothesis space and since we have only two features it should be the features themselves so 2???"
   ]
  },
  {
   "cell_type": "code",
   "execution_count": null,
   "id": "8480d0b9",
   "metadata": {},
   "outputs": [],
   "source": []
  }
 ],
 "metadata": {
  "kernelspec": {
   "display_name": "Python 3 (ipykernel)",
   "language": "python",
   "name": "python3"
  },
  "language_info": {
   "codemirror_mode": {
    "name": "ipython",
    "version": 3
   },
   "file_extension": ".py",
   "mimetype": "text/x-python",
   "name": "python",
   "nbconvert_exporter": "python",
   "pygments_lexer": "ipython3",
   "version": "3.10.10"
  }
 },
 "nbformat": 4,
 "nbformat_minor": 5
}
