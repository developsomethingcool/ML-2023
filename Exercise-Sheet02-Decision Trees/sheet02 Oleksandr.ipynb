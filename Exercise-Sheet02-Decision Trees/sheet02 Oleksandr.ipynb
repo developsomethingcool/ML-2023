{
 "cells": [
  {
   "cell_type": "markdown",
   "id": "0daf253a",
   "metadata": {
    "deletable": false,
    "editable": false,
    "nbgrader": {
     "cell_type": "markdown",
     "checksum": "7ef2c2034676875dd678d3773e7e92b3",
     "grade": false,
     "grade_id": "h00",
     "locked": true,
     "schema_version": 3,
     "solution": false
    }
   },
   "source": [
    "Osnabrück University - Machine Learning (Summer Term 2023) - Prof. Dr.-Ing. G. Heidemann, Ulf Krumnack, Leila Malihi"
   ]
  },
  {
   "cell_type": "markdown",
   "id": "28f4b156",
   "metadata": {
    "deletable": false,
    "editable": false,
    "nbgrader": {
     "cell_type": "markdown",
     "checksum": "ac582d5001c9669f006e7190d2ff2030",
     "grade": false,
     "grade_id": "cell-175c5b8f652e026d",
     "locked": true,
     "schema_version": 3,
     "solution": false,
     "task": false
    }
   },
   "source": [
    "## Exercise Sheet 02: Decision Trees"
   ]
  },
  {
   "cell_type": "markdown",
   "id": "743f0848",
   "metadata": {
    "deletable": false,
    "editable": false,
    "nbgrader": {
     "cell_type": "markdown",
     "checksum": "aa7f2b92e10e5db5ff4903ad50cf24d2",
     "grade": false,
     "grade_id": "cell-0779efa0bccb27ae",
     "locked": true,
     "schema_version": 3,
     "solution": false,
     "task": false
    }
   },
   "source": [
    "## Introduction\n",
    "\n",
    "By now everyone should have found a group. If someone still has none but wants to participate in the course please contact one of the tutors.\n",
    "\n",
    "This week's sheet should be solved and handed in before the end of **Sunday, April 30th, 2023**. If you need help (and Google and other resources were not enough), please use the StudIP forum or contact your groups designated tutor or whom ever of us you run into first. Please upload your results to your group's studip folder.\n",
    "\n",
    "As next Monday is a public holiday, there will be **no feedback sessions with your tutor** (neither on Monday nor on Tuesday). Nevertheless, upload your solutions to StudIP so that the tutors can check them. We will discuss this sheet in the practice session on Tuesday, May 2nd, so please be prepared to present your solutions (or questions) in class."
   ]
  },
  {
   "cell_type": "markdown",
   "id": "ad6662ea",
   "metadata": {
    "deletable": false,
    "editable": false,
    "nbgrader": {
     "cell_type": "markdown",
     "checksum": "16b7327c168b66662f21312fefa412ff",
     "grade": false,
     "grade_id": "math-euclid",
     "locked": true,
     "schema_version": 3,
     "solution": false
    }
   },
   "source": [
    "## Math recap (Euclidean Space) [0 Points]\n",
    "\n",
    "This exercise is supposed to be very easy and is voluntary. There will be a similar exercise on every sheet.\n",
    "It is intended to revise some basic mathematical notions that are assumed throughout this class and to allow you to check if you are comfortable with them.\n",
    "Usually you should have no problem to answer these questions offhand, but if you feel unsure, this is a good time to look them up again. You are always welcome to discuss questions with the tutors or in the practice session.\n",
    "Also, if you have a (math) topic you would like to recap, please let us know."
   ]
  },
  {
   "cell_type": "markdown",
   "id": "bb50de42",
   "metadata": {
    "deletable": false,
    "editable": false,
    "nbgrader": {
     "cell_type": "markdown",
     "checksum": "899ac70855dbd336b6edef96c4c1a6f5",
     "grade": false,
     "grade_id": "math-euclid-q1",
     "locked": true,
     "schema_version": 3,
     "solution": false
    }
   },
   "source": [
    "**a)** What is a *Euclidean space*? What is the *Cartesian plane*? How are they usually denoted? How to write points in these spaces?"
   ]
  },
  {
   "cell_type": "markdown",
   "id": "ae34be98",
   "metadata": {
    "deletable": false,
    "nbgrader": {
     "cell_type": "markdown",
     "checksum": "10da800d32483f0d4bfa9cf43624b3c0",
     "grade": true,
     "grade_id": "math-euclid-a1",
     "locked": false,
     "points": 0,
     "schema_version": 3,
     "solution": true
    },
    "solution": true
   },
   "source": [
    "This is a way to describe the location of an object in a space. It is a free space, without any reference points. In the same time, Cartesian plane has reference point - origin of axes. \n",
    "Point A: (2, 4, 1) <br>\n",
    "Point B: (-3, 0, 5) <br>\n",
    "As n-tuples of real numbers, where n is the number of dimensions of the space"
   ]
  },
  {
   "cell_type": "markdown",
   "id": "97713a5e",
   "metadata": {
    "deletable": false,
    "editable": false,
    "nbgrader": {
     "cell_type": "markdown",
     "checksum": "0bf071a4c6d1ff977bcd336eb96d7daa",
     "grade": false,
     "grade_id": "math-euclid-q2",
     "locked": true,
     "schema_version": 3,
     "solution": false
    }
   },
   "source": [
    "**b)** What is the *norm* of a vector in a Euclidean space? How to *add* and *substract* two vectors? How is the *Euclidean distance* defined? Are there other ways to measure distances?"
   ]
  },
  {
   "cell_type": "markdown",
   "id": "e768e5e6",
   "metadata": {
    "deletable": false,
    "nbgrader": {
     "cell_type": "markdown",
     "checksum": "4f95335b2228d0766f6bdbbba83f857d",
     "grade": true,
     "grade_id": "math-euclid-a2",
     "locked": false,
     "points": 0,
     "schema_version": 3,
     "solution": true
    },
    "solution": true
   },
   "source": [
    "YOUR ANSWER HERE"
   ]
  },
  {
   "cell_type": "markdown",
   "id": "ce414012",
   "metadata": {
    "deletable": false,
    "editable": false,
    "nbgrader": {
     "cell_type": "markdown",
     "checksum": "c7a7304a941a4864f1c0ad2cce2d86b3",
     "grade": false,
     "grade_id": "math-euclid-q3",
     "locked": true,
     "schema_version": 3,
     "solution": false
    }
   },
   "source": [
    "**c)** What is the (standard) *scalar product* of two vectors? How is it related to the length and angle between these vectors? Name some use cases."
   ]
  },
  {
   "cell_type": "markdown",
   "id": "89f89fdd",
   "metadata": {
    "deletable": false,
    "nbgrader": {
     "cell_type": "markdown",
     "checksum": "e5c2f82430f4ba30219c7b0e9a43836d",
     "grade": true,
     "grade_id": "math-euclid-a3",
     "locked": false,
     "points": 0,
     "schema_version": 3,
     "solution": true
    },
    "solution": true
   },
   "source": [
    "YOUR ANSWER HERE"
   ]
  },
  {
   "cell_type": "markdown",
   "id": "b8a1835c",
   "metadata": {
    "deletable": false,
    "editable": false,
    "nbgrader": {
     "cell_type": "markdown",
     "checksum": "be62c89d828631e71c07b16481d1e126",
     "grade": false,
     "grade_id": "1",
     "locked": true,
     "schema_version": 3,
     "solution": false
    }
   },
   "source": [
    "## Decision Trees [4 Points]\n",
    "Draw the decision trees for the following boolean functions. Either use pen and paper and scan/photograph the result or employ your ASCII artist within below.\n",
    "\n",
    "Note: $\\oplus := xor$, that means one of the operands has to be true, while the other one has to be false:\n",
    "\n",
    "|$$\\oplus$$ | $$B$$ | $$\\neg B$$|\n",
    "|:---------|:-----|:---------|\n",
    "|$$A$$      |  f  |    t|\n",
    "|$$\\neg A$$ |  t  |    f|"
   ]
  },
  {
   "cell_type": "markdown",
   "id": "67dba674",
   "metadata": {
    "deletable": false,
    "editable": false,
    "nbgrader": {
     "cell_type": "markdown",
     "checksum": "036b14fec23ad7a705b874c9aaf562d1",
     "grade": false,
     "grade_id": "1a",
     "locked": true,
     "schema_version": 3,
     "solution": false
    }
   },
   "source": [
    "**a)** $\\neg A \\wedge B$\n"
   ]
  },
  {
   "cell_type": "markdown",
   "id": "eba68a36",
   "metadata": {
    "deletable": false,
    "nbgrader": {
     "cell_type": "markdown",
     "checksum": "a9f2836883e282f83c51bd783028777f",
     "grade": true,
     "grade_id": "1a-answer",
     "locked": false,
     "points": 1,
     "schema_version": 3,
     "solution": true
    },
    "solution": true
   },
   "source": []
  },
  {
   "cell_type": "markdown",
   "id": "231e9ea9",
   "metadata": {
    "deletable": false,
    "editable": false,
    "nbgrader": {
     "cell_type": "markdown",
     "checksum": "46f2e0325b65220ee39dde4986b1a78e",
     "grade": false,
     "grade_id": "1b",
     "locked": true,
     "schema_version": 3,
     "solution": false
    }
   },
   "source": [
    "**b)** $A \\oplus B$"
   ]
  },
  {
   "cell_type": "markdown",
   "id": "77243e00",
   "metadata": {
    "deletable": false,
    "nbgrader": {
     "cell_type": "markdown",
     "checksum": "0f21396484008856a236c6728d2d44f5",
     "grade": true,
     "grade_id": "1b_answer",
     "locked": false,
     "points": 1,
     "schema_version": 3,
     "solution": true
    },
    "solution": true
   },
   "source": [
    "YOUR ANSWER HERE"
   ]
  },
  {
   "cell_type": "markdown",
   "id": "493a2e53",
   "metadata": {
    "deletable": false,
    "editable": false,
    "nbgrader": {
     "cell_type": "markdown",
     "checksum": "1dd2047cae668a16b2b6da9a50fa9f5b",
     "grade": false,
     "grade_id": "1c",
     "locked": true,
     "schema_version": 3,
     "solution": false
    }
   },
   "source": [
    "**c)** $A \\vee (B \\wedge C) \\vee (\\neg C \\wedge D)$"
   ]
  },
  {
   "cell_type": "markdown",
   "id": "1d07e66e",
   "metadata": {
    "deletable": false,
    "nbgrader": {
     "cell_type": "markdown",
     "checksum": "c2af131d635c16e17e405789768f240a",
     "grade": true,
     "grade_id": "1c-answer",
     "locked": false,
     "points": 1,
     "schema_version": 3,
     "solution": true
    },
    "solution": true
   },
   "source": [
    "YOUR ANSWER HERE"
   ]
  },
  {
   "cell_type": "markdown",
   "id": "1164463f",
   "metadata": {
    "deletable": false,
    "editable": false,
    "nbgrader": {
     "cell_type": "markdown",
     "checksum": "08d555131bd63c4850d4ea6ce7876315",
     "grade": false,
     "grade_id": "1d",
     "locked": true,
     "schema_version": 3,
     "solution": false
    }
   },
   "source": [
    "**d)** $(A \\rightarrow (B \\wedge \\neg C)) \\vee (A \\wedge B)$"
   ]
  },
  {
   "cell_type": "markdown",
   "id": "dd9279b4",
   "metadata": {
    "deletable": false,
    "nbgrader": {
     "cell_type": "markdown",
     "checksum": "21dba1a896d5553904739b917f6da1e6",
     "grade": true,
     "grade_id": "1d-answer",
     "locked": false,
     "points": 1,
     "schema_version": 3,
     "solution": true
    },
    "solution": true
   },
   "source": [
    "YOUR ANSWER HERE"
   ]
  },
  {
   "cell_type": "markdown",
   "id": "e2e6dee1",
   "metadata": {
    "deletable": false,
    "editable": false,
    "nbgrader": {
     "cell_type": "markdown",
     "checksum": "069da1dc67d11d6c788cc9cd620ba8c5",
     "grade": false,
     "grade_id": "2",
     "locked": true,
     "schema_version": 3,
     "solution": false
    }
   },
   "source": [
    "## Entropy and Information Gain [8 Points]\n",
    "\n",
    "In many machine learning applications it is crucial to determine which criterions are necessary for a good classification. Decision trees have those criterions close to the root, imposing an order from significant to less significant criterions. One way to select the most important criterion is to compare its information gain or its entropy to others. The following dataset is a hands-on example for this method.\n",
    "\n",
    "Consider the following attributes with their possible values:\n",
    "\n",
    "  * $raining = \\{yes, no\\}$\n",
    "  * $tired = \\{yes, no\\}$\n",
    "  * $late = \\{yes, no\\}$\n",
    "  * $distance = \\{short, medium, long\\}$\n",
    "\n",
    "And a training data set consisting of those attributes:\n",
    "\n",
    "| #  | raining | tired | late | distance | attend_party |\n",
    "|----|---------|-------|------|----------|--------------|\n",
    "| 1  | yes     | no    | no   | short    | **yes**      |\n",
    "| 2  | yes     | no    | yes  | medium   | **no**       |\n",
    "| 3  | no      | yes   | no   | long     | **no**       |\n",
    "| 4  | yes     | yes   | yes  | short    | **no**       |\n",
    "| 5  | yes     | no    | no   | short    | **yes**      |\n",
    "| 6  | no      | no    | no   | medium   | **yes**      |\n",
    "| 7  | no      | yes   | no   | long     | **no**       |\n",
    "| 8  | yes     | no    | yes  | short    | **no**       |\n",
    "| 9  | yes     | yes   | no   | short    | **yes**      |\n",
    "| 10 | no      | yes   | no   | medium   | **no**       |\n",
    "| 11 | no      | yes   | no   | long     | **no**       |\n",
    "| 12 | no      | yes   | yes  | short    | **no**       |"
   ]
  },
  {
   "cell_type": "markdown",
   "id": "1c720f41",
   "metadata": {
    "deletable": false,
    "editable": false,
    "nbgrader": {
     "cell_type": "markdown",
     "checksum": "d16aa7ec4daf6aed8b7b8c84d68d4d61",
     "grade": false,
     "grade_id": "2a",
     "locked": true,
     "schema_version": 3,
     "solution": false
    }
   },
   "source": [
    "**a)** Build the root node of a decision tree from the training samples given in the table above by calculating the information gain for all four attributes (raining, tired, late, distance).\n",
    "\n",
    "$$\\operatorname{Gain}(S,A) = \\operatorname{Entropy}(S) - \\sum_{v \\in \\operatorname{Values}(A)} \\frac{|S_v|}{|S|}\\operatorname{Entropy}(S_v)$$\n",
    "\n",
    "$$\\operatorname{Entropy}(S) = -p_{\\oplus} log_{2} p_{\\oplus} - p_{\\ominus} log_{2} p_{\\ominus}$$\n",
    "\n",
    "$S$ is the set of all data samples. $S_v$ is the subset for which attribute $A$ has value $v$. An example for attribute **tired** with value $yes$ would be:\n",
    "$$|S_{yes}| = 7, S_{yes}:[1+, 6−]$$"
   ]
  },
  {
   "cell_type": "markdown",
   "id": "dfcfb1fe",
   "metadata": {
    "deletable": false,
    "nbgrader": {
     "cell_type": "markdown",
     "checksum": "5d13a848d94d3a2552c856f613b1fd2d",
     "grade": true,
     "grade_id": "2a-answer",
     "locked": false,
     "points": 4,
     "schema_version": 3,
     "solution": true
    },
    "solution": true
   },
   "source": [
    "Entropy(𝑆) = -p+ log2 p+ - p- log2 p- <br>\n",
    "Entropy(𝑆) = -(8/12) log2 (8/12) - (4/12) log2 (4/12) <br>\n",
    "Entropy(𝑆) ≈ 0.918\n",
    "\n",
    "Gain(𝑆,Raining) = Entropy(𝑆) - (6/12) Entropy(𝑆 Raining_yes) - (6/12) Entropy(𝑆 Raining_no) = <br>\n",
    "= Entropy(𝑆) - (6/12) * 1 - (6/12) (-(1/6)log2(1/6)-(5/6)log2(5/6)) = <br>\n",
    "=  0.918 - 0.5 - 0.5 * (0.65) = 0.09\n",
    "\n",
    "Gain(𝑆,Tired) = Entropy(𝑆) - (7/12) Entropy(𝑆 Tired_yes) - (5/12) Entropy(𝑆 Tired_no) = <br>\n",
    "= Entropy(𝑆) - (7/12) * (-(1/7)log2(1/7)-(6/7)log2(6/7)) - (5/12) (-(3/5)log2(3/5)-(2/5)log2(2/5)) = <br>\n",
    "=  0.918 - 0.05942 = 0.86\n",
    "\n",
    "Gain(𝑆,Late) = Entropy(𝑆) - (7/12) Entropy(𝑆 Late_yes) - (5/12) Entropy(𝑆 Late_no) = <br>\n",
    "= Entropy(𝑆) - (7/12) * 0 - (5/12) * 1 = <br>\n",
    "=  0.918 - 0 - (5/12) = 0.5\n",
    "\n",
    "Gain(𝑆,Distance) = Entropy(𝑆) - (6/12) Entropy(𝑆 Distance_short) - (3/12) Entropy(𝑆 Distance_medium) - (3/12) Entropy(𝑆 Distance_long) = <br>\n",
    "= Entropy(𝑆) - (6/12) * (-(3/6)log2(3/6)-(3/6)log2(3/6)) - (3/12) * (-(1/3)log2(1/3)-(2/3)log2(2/3)) - 0 = <br>\n",
    "=  0.918 - (6/12) * 1 - (3/12) * 0.23 = 0.36\n",
    "\n",
    "So the highest information gain is for Tired - 0.86"
   ]
  },
  {
   "cell_type": "markdown",
   "id": "7a8f9bc2",
   "metadata": {
    "deletable": false,
    "editable": false,
    "nbgrader": {
     "cell_type": "markdown",
     "checksum": "462907b7cdb40f8c21a7a10f98f41f3a",
     "grade": false,
     "grade_id": "2b",
     "locked": true,
     "schema_version": 3,
     "solution": false
    }
   },
   "source": [
    "**b)** Perform the same calculation as in **a)** but use the gain ratio instead of the information gain. Does the result for the root node change?\n",
    "\n",
    "$$\\operatorname{GainRatio}(S,A) = \\frac{\\operatorname{Gain}(S,A)}{\\operatorname{SplitInformation}(S,A)}$$\n",
    "\n",
    "$$\\operatorname{SplitInformation}(S,A) = - \\sum_{v \\in \\operatorname{Values}(A)} \\frac{|S_v|}{|S|} \\log_{2} \\frac{|S_{v}|}{|S|}$$"
   ]
  },
  {
   "cell_type": "markdown",
   "id": "fb2d1628",
   "metadata": {
    "deletable": false,
    "nbgrader": {
     "cell_type": "markdown",
     "checksum": "c536e75b992639fa2b21877a388eda0f",
     "grade": true,
     "grade_id": "2b-answer",
     "locked": false,
     "points": 4,
     "schema_version": 3,
     "solution": true
    },
    "solution": true
   },
   "source": [
    "SplitInformation(𝑆, Raining) = - (6/12)*log2(6/12) - (6/12)*log2(6/12) <br> \n",
    "GainRatio(𝑆, Raining) =  0.09 / 1 = 0.09 <br>\n",
    "  \n",
    "SplitInformation(𝑆, Tired) = - (7/12)*log2(7/12) - (5/12)*log2(5/12)  <br>\n",
    "GainRatio(𝑆, Tired) =  0.86 / 0.98 = 0.88 <br>\n",
    "\n",
    "SplitInformation(𝑆, Late) = - (4/12)*log2(4/12) - (8/12)*log2(8/12)  <br>\n",
    "GainRatio(𝑆, Tired) =  0.5 / 0.92 = 0.54 <br>\n",
    "\n",
    "SplitInformation(𝑆, Distance) = - (6/12)*log2(6/12) - (3/12)*log2(3/12) - (3/12)*log2(3/12)  <br>\n",
    "GainRatio(𝑆, Distance) =   0.36 / 1.5 = 0.24 <br>\n"
   ]
  },
  {
   "cell_type": "markdown",
   "id": "b82ebe44",
   "metadata": {
    "deletable": false,
    "editable": false,
    "nbgrader": {
     "cell_type": "markdown",
     "checksum": "88c5421bdfb62791f686fd966ab0522f",
     "grade": false,
     "grade_id": "3",
     "locked": true,
     "schema_version": 3,
     "solution": false
    }
   },
   "source": [
    "## ID3 algorithm [4 Points]\n",
    "\n",
    "Implement the following two functions in Python. Take a look at the `assert`s to see how the function should behave. An assert is a condition that your function is required to pass. Most of the conditions here are taken from the lecture slides (ML-03, Slide 12 & 13). Don't worry if you do not get all asserts to pass, just comment the failing ones out."
   ]
  },
  {
   "cell_type": "markdown",
   "id": "18085a5f",
   "metadata": {
    "deletable": false,
    "editable": false,
    "nbgrader": {
     "cell_type": "markdown",
     "checksum": "c6f905d2d0829b495c78bbb9da30d3e4",
     "grade": false,
     "grade_id": "3a-info",
     "locked": true,
     "schema_version": 3,
     "solution": false
    }
   },
   "source": [
    "**a) Entropy**\n",
    "\n",
    "$$\\operatorname{Entropy}(S) = - \\sum_{i=1...c} p_i \\log_2 p_i$$"
   ]
  },
  {
   "cell_type": "code",
   "execution_count": 115,
   "id": "90d523f9",
   "metadata": {},
   "outputs": [
    {
     "name": "stdout",
     "output_type": "stream",
     "text": [
      "0.7219280948873623\n",
      "0.04997214104847725\n"
     ]
    }
   ],
   "source": [
    "targets = [\"no\",\"no\",\"yes\",\"yes\",\"yes\",\"no\",\"yes\",\"no\",\"yes\",\"yes\",\"yes\",\"yes\",\"yes\",\"no\"]\n",
    "attr_values = [\"high\",\"low\",\"medium\",\"high\",\"high\",\"medium\",\"low\",\"medium\",\"low\",\"high\",\"high\",\"medium\",\"low\",\"low\"]\n",
    "\n",
    "\n",
    "entropyS = entropy(targets)\n",
    "\n",
    "\n",
    "attributes_and_targets = list(zip(attr_values, targets))\n",
    "attribute = {\"key\":\"\", \"number_positive\":0, \"number_negative\":0, \"list\":[]}\n",
    "attributes = [] \n",
    "\n",
    "for i in range(len(set(attr_values))):\n",
    "    attributes.append({\"key\":list((set(attr_values)))[i], \"number_positive\":0, \"number_negative\":0, \"list\":[]})\n",
    "\n",
    "for i in range(len(attributes_and_targets)):\n",
    "    if attributes_and_targets[i][1] == \"yes\":\n",
    "        for j in range(len(attributes)):\n",
    "            if attributes[j][\"key\"] == attributes_and_targets[i][0]:\n",
    "                attributes[j][\"number_positive\"] = attributes[j][\"number_positive\"] + 1\n",
    "                attributes[j][\"list\"].append(attributes_and_targets[i][1])\n",
    "\n",
    "    else:\n",
    "        for j in range(len(attributes)):\n",
    "            if attributes[j][\"key\"] == attributes_and_targets[i][0]:\n",
    "                attributes[j][\"number_negative\"] = attributes[j][\"number_negative\"] + 1\n",
    "                attributes[j][\"list\"].append(attributes_and_targets[i][1])\n",
    "\n",
    "InfoGain = entropyS            \n",
    "for i in range(len(attributes)):\n",
    "    InfoGain = InfoGain - (attributes[i][\"number_positive\"]+attributes[i][\"number_negative\"])/len(targets)*entropy(attributes[i][\"list\"])\n",
    "\n",
    "print(entropy(attributes[1][\"list\"]))\n",
    "print(InfoGain)"
   ]
  },
  {
   "cell_type": "code",
   "execution_count": 33,
   "id": "16811a7b",
   "metadata": {
    "deletable": false,
    "nbgrader": {
     "cell_type": "code",
     "checksum": "1f0b2c3e749c80617e180a3e1370cd4d",
     "grade": true,
     "grade_id": "3a-code",
     "locked": false,
     "points": 1,
     "schema_version": 3,
     "solution": true
    }
   },
   "outputs": [],
   "source": [
    "from math import log2\n",
    "def entropy(s):\n",
    "    \"\"\"\n",
    "    Calculate the entropy for a given target value set.\n",
    "\n",
    "    Args:\n",
    "        s (list): Target classes for specific observations.\n",
    "\n",
    "    Returns:\n",
    "        The entropy of s.\n",
    "    \"\"\"\n",
    "    \n",
    "    elements = {}\n",
    "    entropy = 0\n",
    "    #how many unique elements are in list and how often each of them repeats\n",
    "    for i in s:\n",
    "        if i not in elements:\n",
    "            elements[i] = 0\n",
    "        elements[i] = elements[i] + 1\n",
    "        \n",
    "    for i in elements:\n",
    "        entropy = entropy - (elements[i]/len(s)) * (log2(elements[i]/len(s)))\n",
    "    return entropy\n",
    "\n",
    "# See ML-03, Slide 12 & 13"
   ]
  },
  {
   "cell_type": "code",
   "execution_count": 34,
   "id": "95261fab",
   "metadata": {},
   "outputs": [],
   "source": [
    "# Epsilon: Account for small computational and rounding erros\n",
    "epsilon = 1e-3\n",
    "assert abs(entropy([1,1,1,0,0,0]) - 1.0) < epsilon\n",
    "assert abs(entropy([1,1,1,1,0,0,0]) - 0.985) < epsilon\n",
    "assert abs(entropy([1,1,1,1,1,1,0]) - 0.592) < epsilon\n",
    "assert abs(entropy([1,1,1,1,1,1,0,0]) - 0.811) < epsilon\n",
    "assert abs(entropy([2,2,1,1,0,0]) - 1.585) < epsilon\n",
    "assert abs(entropy([2,2,2,1,0]) - 1.371) < epsilon\n",
    "assert abs(entropy([2,2,2,0,0]) - 0.971) < epsilon\n",
    "assert abs(entropy(['yes','yes','yes','no','no','no']) - 1.0) < epsilon"
   ]
  },
  {
   "cell_type": "markdown",
   "id": "39fb410c",
   "metadata": {
    "deletable": false,
    "editable": false,
    "nbgrader": {
     "cell_type": "markdown",
     "checksum": "42f8db6f4c8da24a8d3ba6073241b42b",
     "grade": false,
     "grade_id": "3b",
     "locked": true,
     "schema_version": 3,
     "solution": false
    }
   },
   "source": [
    "**b)** Information Gain\n",
    "\n",
    "$$\\operatorname{Gain}(S,A) = \\operatorname{Entropy}(S) - \\sum_{v \\in \\operatorname{Values}(A)} \\frac{|S_v|}{|S|} \\operatorname{Entropy}(S_v)$$"
   ]
  },
  {
   "cell_type": "code",
   "execution_count": 116,
   "id": "933bb8b1",
   "metadata": {
    "deletable": false,
    "nbgrader": {
     "cell_type": "code",
     "checksum": "31e137f20bd024ba579dabce4d97e2c9",
     "grade": true,
     "grade_id": "3b-code",
     "locked": false,
     "points": 1,
     "schema_version": 3,
     "solution": true
    }
   },
   "outputs": [],
   "source": [
    "def gain(targets, attr_values):\n",
    "    \"\"\"\n",
    "    Calculates the expected reduction in entropy due to sorting on A.\n",
    "\n",
    "    Args:\n",
    "        targets (list): Target classes for observations in attr_values.\n",
    "        attr_values (list): Values of each instance for the respective attribute.\n",
    "\n",
    "    Returns:\n",
    "        The information gain of\n",
    "    \"\"\"\n",
    "    \n",
    "    entropyS = entropy(targets)\n",
    "\n",
    "\n",
    "    attributes_and_targets = list(zip(attr_values, targets))\n",
    "    attribute = {\"key\":\"\", \"number_positive\":0, \"number_negative\":0, \"list\":[]}\n",
    "    attributes = [] \n",
    "\n",
    "    for i in range(len(set(attr_values))):\n",
    "        attributes.append({\"key\":list((set(attr_values)))[i], \"number_positive\":0, \"number_negative\":0, \"list\":[]})\n",
    "\n",
    "    for i in range(len(attributes_and_targets)):\n",
    "        if attributes_and_targets[i][1] == \"yes\":\n",
    "            for j in range(len(attributes)):\n",
    "                if attributes[j][\"key\"] == attributes_and_targets[i][0]:\n",
    "                    attributes[j][\"number_positive\"] = attributes[j][\"number_positive\"] + 1\n",
    "                    attributes[j][\"list\"].append(attributes_and_targets[i][1])\n",
    "\n",
    "        else:\n",
    "            for j in range(len(attributes)):\n",
    "                if attributes[j][\"key\"] == attributes_and_targets[i][0]:\n",
    "                    attributes[j][\"number_negative\"] = attributes[j][\"number_negative\"] + 1\n",
    "                    attributes[j][\"list\"].append(attributes_and_targets[i][1])\n",
    "\n",
    "    \n",
    "    InfoGain = entropyS            \n",
    "    for i in range(len(attributes)):\n",
    "        InfoGain = InfoGain - (attributes[i][\"number_positive\"]+attributes[i][\"number_negative\"])/len(targets)*entropy(attributes[i][\"list\"])\n",
    "    return InfoGain\n",
    "    \n",
    "# See ML-03, Slide 12 & 13\n"
   ]
  },
  {
   "cell_type": "code",
   "execution_count": 117,
   "id": "71a826fd",
   "metadata": {},
   "outputs": [],
   "source": [
    "# The lists here can each be seen as one column of a table such as the one in assignment 2.\n",
    "# Assert targets would be the last column, while the attribute values are the values of one attribute, here the\n",
    "# example rain and distance\n",
    "assert_targets = [\"no\",\"no\",\"yes\",\"yes\",\"yes\",\"no\",\"yes\",\"no\",\"yes\",\"yes\",\"yes\",\"yes\",\"yes\",\"no\"]\n",
    "assert_attribute_values_1 = [\"yes\", \"yes\",\"yes\",\"yes\",\"no\", \"no\", \"no\", \"yes\", \"no\", \"no\", \"no\",\"yes\", \"no\", \"yes\"]\n",
    "assert_attribute_values_2 = [\"high\",\"low\",\"medium\",\"high\",\"high\",\"medium\",\"low\",\"medium\",\"low\",\"high\",\"high\",\"medium\",\"low\",\"low\"]\n",
    "assert_attribute_values_3 = [0,1,0,0,0,1,1,0,0,0,1,1,0,1]\n",
    "\n",
    "epsilon = 1e-3\n",
    "assert abs(gain(assert_targets, assert_attribute_values_1) - 0.152) < epsilon\n",
    "assert abs(gain(assert_targets, assert_attribute_values_2) - 0.05) < epsilon\n",
    "assert abs(gain(assert_targets, assert_attribute_values_3) - 0.048) < epsilon"
   ]
  },
  {
   "cell_type": "markdown",
   "id": "6e27f8ad",
   "metadata": {
    "deletable": false,
    "editable": false,
    "nbgrader": {
     "cell_type": "markdown",
     "checksum": "c340e28e5c4f081d5f03c10dc665d5df",
     "grade": false,
     "grade_id": "3c",
     "locked": true,
     "schema_version": 3,
     "solution": false
    }
   },
   "source": [
    "**c)** ID3\n",
    "\n",
    "In the next two cells we have implemented the ID3 algorithm. It relies on your two functions from above, `entropy` and `gain`. Try to understand what the code does and replace `# YOUR CODE HERE` with meaningful comments describing the respective parts of the code. Do not forget to write the docstring. Though its often annoying, being able to read other peoples code is one of the key skills (and obstacles) in software engineering. So give it a try! Otherwise you are of course welcome to write your own implementation."
   ]
  },
  {
   "cell_type": "code",
   "execution_count": 123,
   "id": "4a5fca98",
   "metadata": {
    "deletable": false,
    "nbgrader": {
     "cell_type": "code",
     "checksum": "fe4c7159e309684d9b1467a4bd60b776",
     "grade": true,
     "grade_id": "3c-answer",
     "locked": false,
     "points": 1,
     "schema_version": 3,
     "solution": true
    }
   },
   "outputs": [],
   "source": [
    "from collections import Counter, namedtuple\n",
    "\n",
    "\n",
    "class Node(namedtuple('Node', 'label children')):\n",
    "    \"\"\"\n",
    "    A small node representation with a pretty string representation.\n",
    "    \"\"\"\n",
    "    def __str__(self, level=0):\n",
    "        return_str ='{}{!s}\\n'.format(' ' * level * 4, self.label)\n",
    "        for child in self.children:\n",
    "            return_str += child.__str__(level + 1)\n",
    "        return return_str\n",
    "\n",
    "def id3(data, attributes, targets, target_names, attribute_names):\n",
    "    \"\"\"\n",
    "    Recursively calculate a tree of Nodes (fields: label [string], children [list])\n",
    "    using the ID3 algorithm.\n",
    "\n",
    "    Args:\n",
    "        data:\n",
    "        attributes: Values of each instance for the respective attribute\n",
    "        targets: Target classes for observations in attr_values\n",
    "        target_names: Name of target classes\n",
    "        attribute_names: Names of of attributes\n",
    "\n",
    "    Returns:\n",
    "        The root of the tree which includes children \n",
    "        \n",
    "    \"\"\"\n",
    "\n",
    "    # Checks if all targets are the same and returns information if they are the same \n",
    "    if all(target == targets[0] for target in targets):\n",
    "        return Node('Result: {!s}'.format(target_names[targets[0]]), [])\n",
    "\n",
    "    # Creates leaf node with the most common target if attributes is empty and no more attributes left\n",
    "    if len(attributes) == 0:       \n",
    "        most_common_idx = Counter(targets).most_common(1)[0][0]\n",
    "        return Node('Result: {!s}'.format(target_names[most_common_idx]), [])\n",
    "\n",
    "    # For each of the attributes informational gain is computed and the attribute with maximum gain is found\n",
    "    gains = [gain(targets, [r[attribute] for r in data])\n",
    "             for attribute in attributes]\n",
    "    max_gain_attribute = attributes[gains.index(max(gains))]\n",
    "\n",
    "    # Creates a node with the maximum gain attribute and it's value rounded to 4 decimal places\n",
    "    root = Node('Attribute: {!s} (gain {!s})'.format(attribute_names[max_gain_attribute],\n",
    "                                                     round(max(gains), 4)), [])\n",
    "    # Iterates over uniqe values of maximal attributes and creates node for each of them\n",
    "    for vi in set(data_sample[max_gain_attribute] for data_sample in data):\n",
    "        # Creates child node and adds it to the list of children nodes\n",
    "        child = Node('Value: {!s}'.format(vi), [])\n",
    "        root.children.append(child)\n",
    "\n",
    "        # Create list with indices where max attribute matches vi\n",
    "        vi_indices = [idx for idx, data_sample in enumerate(data)\n",
    "                          if data_sample[max_gain_attribute] == vi]\n",
    " \n",
    "        # Get data and targets from indices\n",
    "        data_vi = [data[i] for i in vi_indices]\n",
    "        targets_vi = [targets[i] for i in vi_indices]\n",
    "        \n",
    "        # List of attributes which are different from max gain attribute\n",
    "        attributes_vi = [attribute for attribute in attributes if not attribute == max_gain_attribute]\n",
    "       \n",
    "        if data_vi:\n",
    "            # recursively calculate children\n",
    "            child.children.append(\n",
    "                id3(data_vi, attributes_vi, targets_vi, target_names, attribute_names)\n",
    "            )\n",
    "\n",
    "        else:\n",
    "            # Creates leaf node with the most common target\n",
    "            most_common_idx = Counter(targets_vi).most_common(1)[0][0]\n",
    "            label = 'Result: {!s}'.format(target_names[most_common_idx])\n",
    "            child.children.append(Node(label, []))\n",
    "\n",
    "    return root"
   ]
  },
  {
   "cell_type": "markdown",
   "id": "97e0a9c0",
   "metadata": {
    "deletable": false,
    "editable": false,
    "nbgrader": {
     "cell_type": "markdown",
     "checksum": "283adee2240e03ad3988aada7a462fd4",
     "grade": false,
     "grade_id": "3d-1",
     "locked": true,
     "schema_version": 3,
     "solution": false
    }
   },
   "source": [
    "**d)** The algorithm is applied to two data sets. Run those and discuss the differences. For which data set is the ID3 algorithm better suited and why?"
   ]
  },
  {
   "cell_type": "markdown",
   "id": "497f918c",
   "metadata": {
    "deletable": false,
    "editable": false,
    "nbgrader": {
     "cell_type": "markdown",
     "checksum": "394b7a19dc7403ba2196c54ab420e4a4",
     "grade": false,
     "grade_id": "cell-790ca323099344b2",
     "locked": true,
     "schema_version": 3,
     "solution": false,
     "task": false
    }
   },
   "source": [
    "First look at the json file in which the party dataset is saved:"
   ]
  },
  {
   "cell_type": "code",
   "execution_count": 119,
   "id": "28301392",
   "metadata": {
    "deletable": false,
    "editable": false,
    "nbgrader": {
     "cell_type": "code",
     "checksum": "75f77ac5d27fb8fab5a5ca58182913be",
     "grade": false,
     "grade_id": "cell-c651a26268c4fd31",
     "locked": true,
     "schema_version": 3,
     "solution": false,
     "task": false
    }
   },
   "outputs": [
    {
     "name": "stdout",
     "output_type": "stream",
     "text": [
      "{\n",
      "    \"attributes\": [\n",
      "        \"raining\",\n",
      "        \"tired\",\n",
      "        \"late\",\n",
      "        \"distance\"\n",
      "    ],\n",
      "    \"data\": [\n",
      "        [\n",
      "            \"yes\",\n",
      "            \"no\",\n",
      "            \"no\",\n",
      "            \"short\"\n",
      "        ],\n",
      "        [\n",
      "            \"yes\",\n",
      "            \"no\",\n",
      "            \"yes\",\n",
      "            \"medium\"\n",
      "        ],\n",
      "        [\n",
      "            \"no\",\n",
      "            \"yes\",\n",
      "            \"no\",\n",
      "            \"long\"\n",
      "        ],\n",
      "        [\n",
      "            \"yes\",\n",
      "            \"yes\",\n",
      "            \"yes\",\n",
      "            \"short\"\n",
      "        ],\n",
      "        [\n",
      "            \"yes\",\n",
      "            \"no\",\n",
      "            \"no\",\n",
      "            \"short\"\n",
      "        ],\n",
      "        [\n",
      "            \"no\",\n",
      "            \"no\",\n",
      "            \"no\",\n",
      "            \"medium\"\n",
      "        ],\n",
      "        [\n",
      "            \"no\",\n",
      "            \"yes\",\n",
      "            \"no\",\n",
      "            \"long\"\n",
      "        ],\n",
      "        [\n",
      "            \"yes\",\n",
      "            \"no\",\n",
      "            \"yes\",\n",
      "            \"short\"\n",
      "        ],\n",
      "        [\n",
      "            \"yes\",\n",
      "            \"yes\",\n",
      "            \"no\",\n",
      "            \"short\"\n",
      "        ],\n",
      "        [\n",
      "            \"no\",\n",
      "            \"yes\",\n",
      "            \"no\",\n",
      "            \"medium\"\n",
      "        ],\n",
      "        [\n",
      "            \"no\",\n",
      "            \"yes\",\n",
      "            \"no\",\n",
      "            \"long\"\n",
      "        ],\n",
      "        [\n",
      "            \"no\",\n",
      "            \"yes\",\n",
      "            \"yes\",\n",
      "            \"short\"\n",
      "        ]\n",
      "    ],\n",
      "    \"target_names\": [\n",
      "        \"yes\",\n",
      "        \"no\"\n",
      "    ],\n",
      "    \"targets\": [\n",
      "        0,\n",
      "        1,\n",
      "        1,\n",
      "        1,\n",
      "        0,\n",
      "        0,\n",
      "        1,\n",
      "        1,\n",
      "        0,\n",
      "        1,\n",
      "        1,\n",
      "        1\n",
      "    ]\n",
      "}\n"
     ]
    }
   ],
   "source": [
    "import json\n",
    "\n",
    "with open('party.json', 'r') as party_file:\n",
    "    party = json.load(party_file)\n",
    "    \n",
    "print(json.dumps(party, indent=4, sort_keys=True))"
   ]
  },
  {
   "cell_type": "markdown",
   "id": "80f4afed",
   "metadata": {
    "deletable": false,
    "editable": false,
    "nbgrader": {
     "cell_type": "markdown",
     "checksum": "4d2d6eb4db5ba15353dbede48c149cf6",
     "grade": false,
     "grade_id": "cell-9cf4012147f12460",
     "locked": true,
     "schema_version": 3,
     "solution": false,
     "task": false
    }
   },
   "source": [
    "We see that the dataset is parsed as a dictionary with four entries:\n",
    "\n",
    "* `attributes`: A list of the attribute names\n",
    "* `data`: A list of the x-data of our samples. Each sample is again a list\n",
    "* `target_names`: A list of the targets, i.e. labels\n",
    "* `targets`: A list of the labels of our samples"
   ]
  },
  {
   "cell_type": "markdown",
   "id": "4c9ed4ed",
   "metadata": {
    "deletable": false,
    "editable": false,
    "nbgrader": {
     "cell_type": "markdown",
     "checksum": "0635f51b260f64ea62131b9df63d555b",
     "grade": false,
     "grade_id": "3d-2",
     "locked": true,
     "schema_version": 3,
     "solution": false
    }
   },
   "source": [
    "This code runs the ID3 algorithm on the party data set which you already know from assignment 2."
   ]
  },
  {
   "cell_type": "code",
   "execution_count": 120,
   "id": "ba1c38e2",
   "metadata": {
    "deletable": false,
    "editable": false,
    "nbgrader": {
     "cell_type": "code",
     "checksum": "a15af5d3e50ae1078ab3d147ade95155",
     "grade": false,
     "grade_id": "3d-3",
     "locked": true,
     "schema_version": 3,
     "solution": false
    }
   },
   "outputs": [
    {
     "name": "stdout",
     "output_type": "stream",
     "text": [
      "Attribute: late (gain 0.2516)\n",
      "    Value: yes\n",
      "        Result: no\n",
      "    Value: no\n",
      "        Attribute: distance (gain 0.75)\n",
      "            Value: medium\n",
      "                Attribute: tired (gain 1.0)\n",
      "                    Value: yes\n",
      "                        Result: no\n",
      "                    Value: no\n",
      "                        Result: yes\n",
      "            Value: long\n",
      "                Result: no\n",
      "            Value: short\n",
      "                Result: yes\n",
      "\n"
     ]
    }
   ],
   "source": [
    "import json\n",
    "\n",
    "with open('party.json', 'r') as party_file:\n",
    "    \n",
    "    party = json.load(party_file)\n",
    "\n",
    "# Make sure our gain function handles the data set as expected.\n",
    "epsilon = 1e-3\n",
    "assert abs(gain(party['targets'], [r[2] for r in party['data']]) - 0.252) < epsilon\n",
    "\n",
    "\n",
    "data = party['data']\n",
    "attribute_names = party['attributes']\n",
    "attributes = list(range(len(attribute_names)))\n",
    "targets = party['targets']\n",
    "target_names = party['target_names']\n",
    "\n",
    "\n",
    "# Apply ID3 algorithm\n",
    "tree_party = id3(data, attributes, targets, target_names, attribute_names)\n",
    "\n",
    "print(tree_party)"
   ]
  },
  {
   "cell_type": "markdown",
   "id": "9e469a64",
   "metadata": {
    "deletable": false,
    "editable": false,
    "nbgrader": {
     "cell_type": "markdown",
     "checksum": "1732eff75495ba30536ae4f76b57fd62",
     "grade": false,
     "grade_id": "3d-4",
     "locked": true,
     "schema_version": 3,
     "solution": false
    }
   },
   "source": [
    "This code runs the ID3 algorithm on the famous iris flowers data set."
   ]
  },
  {
   "cell_type": "code",
   "execution_count": 121,
   "id": "e6643640",
   "metadata": {
    "deletable": false,
    "editable": false,
    "nbgrader": {
     "cell_type": "code",
     "checksum": "1818dc4c9834c168acbec830171d91ad",
     "grade": false,
     "grade_id": "3d-5",
     "locked": true,
     "schema_version": 3,
     "solution": false
    }
   },
   "outputs": [
    {
     "name": "stdout",
     "output_type": "stream",
     "text": [
      "Attribute: petal length (gain 1.4463)\n",
      "    Value: 1.5\n",
      "        Result: Iris-setosa\n",
      "    Value: 5.2\n",
      "        Result: Iris-virginica\n",
      "    Value: 4.5\n",
      "        Attribute: sepal length (gain 0.5436)\n",
      "            Value: 4.9\n",
      "                Result: Iris-virginica\n",
      "            Value: 6.0\n",
      "                Result: Iris-versicolor\n",
      "            Value: 6.4\n",
      "                Result: Iris-versicolor\n",
      "            Value: 5.4\n",
      "                Result: Iris-versicolor\n",
      "            Value: 6.2\n",
      "                Result: Iris-versicolor\n",
      "            Value: 5.6\n",
      "                Result: Iris-versicolor\n",
      "            Value: 5.7\n",
      "                Result: Iris-versicolor\n",
      "    Value: 1.3\n",
      "        Result: Iris-setosa\n",
      "    Value: 4.2\n",
      "        Result: Iris-versicolor\n",
      "    Value: 5.6\n",
      "        Result: Iris-virginica\n",
      "    Value: 3.6\n",
      "        Result: Iris-versicolor\n",
      "    Value: 5.8\n",
      "        Result: Iris-virginica\n",
      "    Value: 3.8\n",
      "        Result: Iris-versicolor\n",
      "    Value: 5.1\n",
      "        Attribute: sepal length (gain 0.5436)\n",
      "            Value: 6.5\n",
      "                Result: Iris-virginica\n",
      "            Value: 6.0\n",
      "                Result: Iris-versicolor\n",
      "            Value: 5.9\n",
      "                Result: Iris-virginica\n",
      "            Value: 6.3\n",
      "                Result: Iris-virginica\n",
      "            Value: 5.8\n",
      "                Result: Iris-virginica\n",
      "            Value: 6.9\n",
      "                Result: Iris-virginica\n",
      "    Value: 6.6\n",
      "        Result: Iris-virginica\n",
      "    Value: 5.3\n",
      "        Result: Iris-virginica\n",
      "    Value: 4.9\n",
      "        Attribute: sepal width (gain 0.971)\n",
      "            Value: 3.0\n",
      "                Result: Iris-virginica\n",
      "            Value: 2.8\n",
      "                Result: Iris-virginica\n",
      "            Value: 2.7\n",
      "                Result: Iris-virginica\n",
      "            Value: 3.1\n",
      "                Result: Iris-versicolor\n",
      "            Value: 2.5\n",
      "                Result: Iris-versicolor\n",
      "    Value: 6.0\n",
      "        Result: Iris-virginica\n",
      "    Value: 1.7\n",
      "        Result: Iris-setosa\n",
      "    Value: 6.4\n",
      "        Result: Iris-virginica\n",
      "    Value: 3.5\n",
      "        Result: Iris-versicolor\n",
      "    Value: 1.2\n",
      "        Result: Iris-setosa\n",
      "    Value: 4.7\n",
      "        Result: Iris-versicolor\n",
      "    Value: 1.0\n",
      "        Result: Iris-setosa\n",
      "    Value: 4.3\n",
      "        Result: Iris-versicolor\n",
      "    Value: 6.9\n",
      "        Result: Iris-virginica\n",
      "    Value: 4.8\n",
      "        Attribute: sepal length (gain 1.0)\n",
      "            Value: 6.0\n",
      "                Result: Iris-virginica\n",
      "            Value: 5.9\n",
      "                Result: Iris-versicolor\n",
      "            Value: 6.2\n",
      "                Result: Iris-virginica\n",
      "            Value: 6.8\n",
      "                Result: Iris-versicolor\n",
      "    Value: 5.9\n",
      "        Result: Iris-virginica\n",
      "    Value: 6.3\n",
      "        Result: Iris-virginica\n",
      "    Value: 6.7\n",
      "        Result: Iris-virginica\n",
      "    Value: 5.7\n",
      "        Result: Iris-virginica\n",
      "    Value: 4.6\n",
      "        Result: Iris-versicolor\n",
      "    Value: 1.4\n",
      "        Result: Iris-setosa\n",
      "    Value: 1.6\n",
      "        Result: Iris-setosa\n",
      "    Value: 4.0\n",
      "        Result: Iris-versicolor\n",
      "    Value: 3.0\n",
      "        Result: Iris-versicolor\n",
      "    Value: 5.0\n",
      "        Attribute: sepal length (gain 0.8113)\n",
      "            Value: 6.0\n",
      "                Result: Iris-virginica\n",
      "            Value: 6.3\n",
      "                Result: Iris-virginica\n",
      "            Value: 5.7\n",
      "                Result: Iris-virginica\n",
      "            Value: 6.7\n",
      "                Result: Iris-versicolor\n",
      "    Value: 5.5\n",
      "        Result: Iris-virginica\n",
      "    Value: 3.9\n",
      "        Result: Iris-versicolor\n",
      "    Value: 5.4\n",
      "        Result: Iris-virginica\n",
      "    Value: 1.1\n",
      "        Result: Iris-setosa\n",
      "    Value: 3.3\n",
      "        Result: Iris-versicolor\n",
      "    Value: 6.1\n",
      "        Result: Iris-virginica\n",
      "    Value: 1.9\n",
      "        Result: Iris-setosa\n",
      "    Value: 4.1\n",
      "        Result: Iris-versicolor\n",
      "    Value: 3.7\n",
      "        Result: Iris-versicolor\n",
      "    Value: 4.4\n",
      "        Result: Iris-versicolor\n",
      "\n"
     ]
    }
   ],
   "source": [
    "import json\n",
    "\n",
    "with open('iris.json', 'r') as iris_file:\n",
    "    iris = json.load(iris_file)\n",
    "\n",
    "# Make sure our gain function handles the data set as expected.\n",
    "epsilon = 1e-3\n",
    "assert abs(gain(iris['targets'], [r[2] for r in iris['data']]) - 1.446) < epsilon\n",
    "\n",
    "data = iris['data']\n",
    "attribute_names = iris['attributes']\n",
    "attributes = list(range(len(attribute_names)))\n",
    "targets = iris['targets']\n",
    "target_names = iris['target_names']\n",
    "\n",
    "# Apply ID3 algorithm\n",
    "tree_iris = id3(data, attributes, targets, target_names, attribute_names)\n",
    "\n",
    "print(tree_iris)"
   ]
  },
  {
   "cell_type": "markdown",
   "id": "bdae7a9b",
   "metadata": {
    "deletable": false,
    "nbgrader": {
     "cell_type": "markdown",
     "checksum": "2e6c4f9c4f123dbe30830eddaa329a5a",
     "grade": true,
     "grade_id": "3d-answer",
     "locked": false,
     "points": 1,
     "schema_version": 3,
     "solution": true
    }
   },
   "source": [
    "For the first one as the decision tree for the first data set is much smaller and has much less children. Therefore it is  easier to operate with. Also, ID3 is generally more appropriate for smaller datasets."
   ]
  },
  {
   "cell_type": "markdown",
   "id": "7b122af1",
   "metadata": {
    "deletable": false,
    "editable": false,
    "nbgrader": {
     "cell_type": "markdown",
     "checksum": "55d81c0efd3363db327b656815805cec",
     "grade": false,
     "grade_id": "4-1",
     "locked": true,
     "schema_version": 3,
     "solution": false
    }
   },
   "source": [
    "## Decision Trees on Iris Flowers [4 Points]\n",
    "\n",
    "In this exercise we are going to examine and compare two decision trees that were generated from the iris flower data set to classify three variations of Iris flowers. The Iris data set is a classical example of a labeled dataset, i.e. every sample consists of two parts: features and labels. There are four features per sample in this data set (sepal length ($x_1$), sepal width ($x_2$), petal length ($x_3$) and petal width ($x_4$) in cm) and a corresponding label (Iris Setosa, Iris Versicolour, Iris Virginica). These samples are by nature **noisy**, no matter how carefully the measurement was taken - slight deviation from the actual length **cannot be avoided**. We want to learn how the features are related to the label so that we could (in the future) predict the label of a new sample automatically. One way to obtain such a `classifier` is to train a decision tree on the data.\n",
    "\n",
    "Here are two decisions tree generated by the data set. We will now take a closer look."
   ]
  },
  {
   "cell_type": "markdown",
   "id": "1a76080b",
   "metadata": {
    "deletable": false,
    "editable": false,
    "nbgrader": {
     "cell_type": "markdown",
     "checksum": "730e61df559215aa8d4dd57701074550",
     "grade": false,
     "grade_id": "4-2",
     "locked": true,
     "schema_version": 3,
     "solution": false
    }
   },
   "source": [
    "**Tree 1:**"
   ]
  },
  {
   "cell_type": "raw",
   "id": "79aa833c",
   "metadata": {},
   "source": [
    "                      +  \n",
    "                      |\n",
    "                      |\n",
    "                      |\n",
    "       x3 < 2.45      |     x3 >= 2.45\n",
    "   +------------------+------------------+\n",
    "   |                                     |\n",
    "   |                        x4 < 1.75    |     x4 >= 1.75\n",
    "   +                           +---------+---------+\n",
    "setosa                         |                   |\n",
    "                               |                   |\n",
    "                     x3 < 4.95 |   x3 >= 4.95      +\n",
    "                        +--------------+       virginica\n",
    "                        |              |\n",
    "                        |              |\n",
    "              x4 < 1.65 | x4 >= 1.65   +\n",
    "                 +------------+    virginica\n",
    "                 |            |\n",
    "                 |            |\n",
    "                 +            +\n",
    "            versicolor    virginica\n"
   ]
  },
  {
   "cell_type": "markdown",
   "id": "5ba90428",
   "metadata": {
    "deletable": false,
    "editable": false,
    "nbgrader": {
     "cell_type": "markdown",
     "checksum": "4633aa12103d3890f8c053b45df9ad0c",
     "grade": false,
     "grade_id": "4-4",
     "locked": true,
     "schema_version": 3,
     "solution": false
    }
   },
   "source": [
    "**Tree 2:**"
   ]
  },
  {
   "cell_type": "raw",
   "id": "7100e992",
   "metadata": {},
   "source": [
    "                      +\n",
    "                      |\n",
    "                      |\n",
    "                      |\n",
    "       x3 < 2.45      |     x3 >= 2.45\n",
    "   +------------------+------------------+\n",
    "   |                                     |\n",
    "   |                        x4 < 1.75    |     x4 >= 1.75\n",
    "   +                           +---------+---------+\n",
    "setosa                         |                   |\n",
    "                               |                   |\n",
    "                               +                   +\n",
    "                          versicolor           virginica"
   ]
  },
  {
   "cell_type": "markdown",
   "id": "3fed92b6",
   "metadata": {
    "deletable": false,
    "editable": false,
    "nbgrader": {
     "cell_type": "markdown",
     "checksum": "ffcd784b47c90e217848e02ffc378b75",
     "grade": false,
     "grade_id": "4a-1",
     "locked": true,
     "schema_version": 3,
     "solution": false
    }
   },
   "source": [
    "**a)** What does it mean that the features $x1$ and $x2$ do not appear in the decision trees?"
   ]
  },
  {
   "cell_type": "markdown",
   "id": "ded920da",
   "metadata": {
    "deletable": false,
    "nbgrader": {
     "cell_type": "markdown",
     "checksum": "494a7784873d2fc015370f61c0b64eec",
     "grade": true,
     "grade_id": "4a-answer",
     "locked": false,
     "points": 1,
     "schema_version": 3,
     "solution": true
    },
    "solution": true
   },
   "source": [
    "It means that features x1 and x2 were much less significant then x3 and x4 and had less information gain. Therefore they could be excluded."
   ]
  },
  {
   "cell_type": "markdown",
   "id": "29f932c4",
   "metadata": {
    "deletable": false,
    "editable": false,
    "nbgrader": {
     "cell_type": "markdown",
     "checksum": "277247f94c11865f9544f0fe2c425842",
     "grade": false,
     "grade_id": "4b",
     "locked": true,
     "schema_version": 3,
     "solution": false
    }
   },
   "source": [
    "**b)** With which method from the lecture might the second tree have been generated from the first one? Explain the procedure."
   ]
  },
  {
   "cell_type": "markdown",
   "id": "d955e627",
   "metadata": {
    "deletable": false,
    "nbgrader": {
     "cell_type": "markdown",
     "checksum": "0a5a3187f58d0e0e6e9f8d8932ceeed8",
     "grade": true,
     "grade_id": "4b-answer",
     "locked": false,
     "points": 1,
     "schema_version": 3,
     "solution": true
    },
    "solution": true
   },
   "source": [
    "Reduced error pruning. It reduces some less significant conditions(which does not influence the result much) and makes the tree simplier.  "
   ]
  },
  {
   "cell_type": "markdown",
   "id": "68b33cac",
   "metadata": {
    "deletable": false,
    "editable": false,
    "nbgrader": {
     "cell_type": "markdown",
     "checksum": "a9aa2fb79517682bc4d80360baec170b",
     "grade": false,
     "grade_id": "4c",
     "locked": true,
     "schema_version": 3,
     "solution": false
    }
   },
   "source": [
    "**c)** After training the tree we can calculate the accuracy, i.e. the percentage of the training set that is classified correctly. Although the first tree was trained on the data set until no improvement of the accuracy was possible, its accuracy is *only* 98%. Explain why it is not 100 %"
   ]
  },
  {
   "cell_type": "markdown",
   "id": "b5fab11e",
   "metadata": {
    "deletable": false,
    "nbgrader": {
     "cell_type": "markdown",
     "checksum": "602464d5b9d93a8576cf0a4f433c0c9e",
     "grade": true,
     "grade_id": "4c-answer",
     "locked": false,
     "points": 1,
     "schema_version": 3,
     "solution": true
    },
    "solution": true
   },
   "source": [
    "It the accuracy is improved to 100% it will make the tree much more complex and cumpatatinally costly, it will also cause over fitting and we will not be able to use the tree for a new dataset."
   ]
  },
  {
   "cell_type": "markdown",
   "id": "f3fbcd1d",
   "metadata": {
    "deletable": false,
    "editable": false,
    "nbgrader": {
     "cell_type": "markdown",
     "checksum": "65bd16338d432abb937b4f859aad840d",
     "grade": false,
     "grade_id": "4d",
     "locked": true,
     "schema_version": 3,
     "solution": false
    }
   },
   "source": [
    "**d)** Tree 2 only has a 96% accuracy on the training set. Why might this tree still be preferable over tree 1?"
   ]
  },
  {
   "cell_type": "markdown",
   "id": "b3c01936",
   "metadata": {
    "deletable": false,
    "nbgrader": {
     "cell_type": "markdown",
     "checksum": "c12b2c472831afbdfebf1f5a5820681c",
     "grade": true,
     "grade_id": "4d-answer",
     "locked": false,
     "points": 1,
     "schema_version": 3,
     "solution": true
    },
    "solution": true
   },
   "source": [
    "As the second tree is simplier and computationally cheaper. This is a trade off between accuracy and computational cost"
   ]
  },
  {
   "cell_type": "code",
   "execution_count": null,
   "id": "38609c02",
   "metadata": {},
   "outputs": [],
   "source": []
  }
 ],
 "metadata": {
  "kernelspec": {
   "display_name": "Python 3 (ipykernel)",
   "language": "python",
   "name": "python3"
  },
  "language_info": {
   "codemirror_mode": {
    "name": "ipython",
    "version": 3
   },
   "file_extension": ".py",
   "mimetype": "text/x-python",
   "name": "python",
   "nbconvert_exporter": "python",
   "pygments_lexer": "ipython3",
   "version": "3.10.10"
  }
 },
 "nbformat": 4,
 "nbformat_minor": 5
}
